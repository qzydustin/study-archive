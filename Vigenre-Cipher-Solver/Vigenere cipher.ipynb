{
 "cells": [
  {
   "cell_type": "code",
   "execution_count": 1,
   "metadata": {},
   "outputs": [],
   "source": [
    "ciphertext = \"OBRGXIMYAZZAWCATBNMUYYHAZNVGFCXPVVSIJSVLKIFAVGBIECAZSBWGRGRQWUCHMMOCYEFLGQQNKFSHQMGYALNKCIJQVEKVWXNFOYFYQBESGOYTXMAYTXSISNBPMSGOJBKFWRUTTMLSBNQMLLRGFNZUAWHZLBRVZGHUVZMCKJEHSLSWGXCNZYEXRIMLPXRIXNUXRNSNRPHFDHBMAYWKHTKNGNUXRNJUVGMYNYEYNLYYGPGYFSBNQQWUCHMMSLRWTFDYQRNOJUEWNLVUZIDHWXLHTLKNEXMALBRQGUMMGXCUFXLHTLLLRTROJYFIDHLIGADLUBVXENSCALVCDFFIQCFAHISILUXXZXNUAMZAWISRNOJYKMQYECGRSBWHAHLUFBBPDPWLJBRYOCYEAYSVYXSISPRKSNZYPHMMWKHXMWWMGAZNEOFMDHKORMGOKNUHTAZQRAZPWBRTQXGZFMTJAXUTRNWCAPZLUFRODLFYFLGUKHRODLTYRGRYWHNLRIUCNMDXOCGAKIFAQXKUQMVGZFDBVLSIJSGADLWCFGNCFMGTMWWISTBIMHGKXBSPVGFVWHRYHNWXSKNGHLBENHYYQPZLXUEXNHDSBGDQZIXGNQKNUXCCKUFMQIMMRYEYUNFHEUDIAZVUJWNGQYSFVSDNZYFNOLWGRBLJGLGTMWWISKZJAXVMXCFVEBMAAHTBSNGUPENMWCGBRIFFLHMYOBBBRNZIEHTAZFLTBKMUVGSYVQVMGNZYROHFKISPZLOBBVZHLBBKNOYBYRTHVYELSUFXGADJJISBSUTFRPZSGZPTQLQCAZHNGHGADMCCYEEODARGDLSFQHDMFIGKZCKYNLDWGHQEDPQHRBSBWLNKDBAMFNOJDSJTFIFMYHZXWXZHQYLBNGSQAWRHMWWQNKHMVYPEZLWXUXVCDFAHSQSMGXOLWWVHTMLCZXHHOUVMHHYZBKQYAHSHQWWGRGSMFIEPHFDBRMTLFBVLZLESOTBEXIEYQYKBFNOJDCRLAOLWEHRMWMGADYFYZRRZJIAMHYJQVMGIMNQXKUQNUXUUDORHENAGRMGULCFUDCFANEHNLFRTGYSXBYXIMLBIOIFYAMGUKWBNMNWXSHQGGLRMGUFYVMGYJHHFDLAWNEROHYEBNLANLHQNZYABBYKNPTKWMFNMHIFMJBSBJYTTQXLIPHLGAMFTQCSN\"\n"
   ]
  },
  {
   "cell_type": "code",
   "execution_count": 2,
   "metadata": {},
   "outputs": [
    {
     "data": {
      "text/plain": [
       "[('NZY', 5), ('GAD', 5), ('NUX', 4), ('NOJ', 4), ('MWW', 4)]"
      ]
     },
     "execution_count": 2,
     "metadata": {},
     "output_type": "execute_result"
    }
   ],
   "source": [
    "MIN_LENGTH = 3\n",
    "MAX_LENGTH = 10\n",
    "\n",
    "\n",
    "def FreqSubstring(ciphertext):\n",
    "    size = len(ciphertext)\n",
    "    freq = dict()\n",
    "\n",
    "    for i in range(size):\n",
    "        string = ''\n",
    "        for j in range(i, size):\n",
    "            string += ciphertext[j]\n",
    "            if len(string) < MIN_LENGTH or len(string) > MAX_LENGTH:\n",
    "                continue\n",
    "            if string in freq.keys():\n",
    "                freq[string] += 1\n",
    "            else:\n",
    "                freq[string] = 1\n",
    "\n",
    "    freq = sorted(freq.items(), key=lambda d: d[1], reverse=True)\n",
    "    return freq[0:5]\n",
    "\n",
    "\n",
    "FreqSubstring(ciphertext)\n"
   ]
  },
  {
   "cell_type": "markdown",
   "metadata": {},
   "source": [
    "Most frequence substring: NZY 5 times, GAD 5 times\n"
   ]
  },
  {
   "cell_type": "code",
   "execution_count": 3,
   "metadata": {},
   "outputs": [
    {
     "name": "stdout",
     "output_type": "stream",
     "text": [
      "[179, 413, 659, 749, 1151]\n",
      "[320, 542, 788, 818, 1022]\n"
     ]
    }
   ],
   "source": [
    "def SubLocation(string, substring):\n",
    "    locations = []\n",
    "    begin = 0\n",
    "    while(True):\n",
    "        loc = string.find(substring, begin)\n",
    "        if(loc == -1):\n",
    "            break\n",
    "        locations.append(loc)\n",
    "        begin = loc+1\n",
    "    return locations\n",
    "\n",
    "\n",
    "print(SubLocation(ciphertext, \"NZY\"))\n",
    "print(SubLocation(ciphertext, \"GAD\"))\n"
   ]
  },
  {
   "cell_type": "markdown",
   "metadata": {},
   "source": [
    "NZY's location in original string is [179, 413, 659, 749, 1151]\n",
    "\n",
    "GAD's location in original string is [320, 542, 788, 818, 1022]\n"
   ]
  },
  {
   "cell_type": "code",
   "execution_count": 4,
   "metadata": {},
   "outputs": [
    {
     "name": "stdout",
     "output_type": "stream",
     "text": [
      "[234, 246, 90, 402]\n",
      "[222, 246, 30, 204]\n"
     ]
    }
   ],
   "source": [
    "def LocationDiff(locations):\n",
    "    diff = []\n",
    "    for i in range(len(locations)-1):\n",
    "        diff.append(locations[i+1]-locations[i])\n",
    "    return diff\n",
    "\n",
    "\n",
    "print(LocationDiff([179, 413, 659, 749, 1151]))\n",
    "print(LocationDiff([320, 542, 788, 818, 1022]))\n"
   ]
  },
  {
   "cell_type": "markdown",
   "metadata": {},
   "source": [
    "The difference of each NZY's location is [234, 246, 90, 402]\n",
    "\n",
    "The difference of each GAD's location is [222, 246, 30, 204]\n"
   ]
  },
  {
   "cell_type": "code",
   "execution_count": 5,
   "metadata": {},
   "outputs": [
    {
     "data": {
      "text/plain": [
       "[(2, 8), (3, 8), (6, 8), (9, 2), (18, 2)]"
      ]
     },
     "execution_count": 5,
     "metadata": {},
     "output_type": "execute_result"
    }
   ],
   "source": [
    "def FreqFactor(diffs):\n",
    "    factors = dict()\n",
    "\n",
    "    for diff in diffs:\n",
    "        for factor in range(2, diff + 1):\n",
    "            if diff % factor == 0:\n",
    "                if factor in factors.keys():\n",
    "                    factors[factor] += 1\n",
    "                else:\n",
    "                    factors[factor] = 1\n",
    "\n",
    "    factors = sorted(factors.items(), key=lambda d: d[1], reverse=True)\n",
    "    return factors[0:5]\n",
    "\n",
    "\n",
    "FreqFactor([234, 246, 90, 402, 222, 246, 30, 204])\n"
   ]
  },
  {
   "cell_type": "markdown",
   "metadata": {},
   "source": [
    "The most frequent factor is 2--8times, 3--8times, 6--8times.\n",
    "\n",
    "2 and 3 are 6's factor. Therefore, I try the length of the key is 6 first.\n"
   ]
  },
  {
   "cell_type": "code",
   "execution_count": 6,
   "metadata": {},
   "outputs": [],
   "source": [
    "def DevideString(string, piece):\n",
    "    pieces = [\"\" for i in range(piece)]\n",
    "    for i in range(len(string)):\n",
    "        mod = i % piece\n",
    "        pieces[mod] += string[i]\n",
    "\n",
    "    return pieces\n"
   ]
  },
  {
   "cell_type": "code",
   "execution_count": 7,
   "metadata": {},
   "outputs": [],
   "source": [
    "def CaesarCipherDecode(cipher, keys):\n",
    "    cipher = cipher.upper()\n",
    "    keys = keys.upper()\n",
    "    plains = \"\"\n",
    "    for i in range(len(cipher)):\n",
    "        key = keys[i % len(keys)]\n",
    "        offset = ord(key)-ord(\"A\")\n",
    "        plainASCII = ord(cipher[i]) - offset\n",
    "        if plainASCII < ord(\"A\"):\n",
    "            plainASCII += 26\n",
    "        plains += chr(plainASCII)\n",
    "    return plains\n"
   ]
  },
  {
   "cell_type": "code",
   "execution_count": 8,
   "metadata": {},
   "outputs": [],
   "source": [
    "def StringFrequency(string):\n",
    "    plains = [[] for i in range(26)]\n",
    "    switcher = {\"A\": .08167, \"B\": .01492, \"C\": .02782, \"D\": .04253, \"E\": .12702, \"F\": .02228, \"G\": .02015, \"H\": .06094, \"I\": .06966, \"J\": .00153, \"K\": .00772, \"L\": .04025, \"M\": .02406,\n",
    "                \"N\": .06749, \"O\": .07507, \"P\": .01929, \"Q\": .00095, \"R\": .05987, \"S\": .06327, \"T\": .09056, \"U\": .02758, \"V\": .00978, \"W\": .02360, \"X\": .00150, \"Y\": .01974, \"Z\": .00074}\n",
    "\n",
    "    for i in range(26):\n",
    "        plain = CaesarCipherDecode(string, chr(ord(\"A\")+i))\n",
    "        frequency = 0\n",
    "        for char in plain:\n",
    "            frequency += switcher.get(char)\n",
    "        plains[i].append(plain)\n",
    "        plains[i].append(chr(ord(\"A\")+i))\n",
    "        plains[i].append(frequency/len(string))\n",
    "\n",
    "    plains = sorted(plains, key=lambda d: d[2], reverse=True)\n",
    "\n",
    "    return plains[0:3]\n"
   ]
  },
  {
   "cell_type": "code",
   "execution_count": 9,
   "metadata": {},
   "outputs": [
    {
     "name": "stdout",
     "output_type": "stream",
     "text": [
      "['WUEUHFRNMEEWOAIRENOIAOETTHTPSAHUFALEORVGNEALRDESTUNTRTCALNTVERMENEWAAHEEMSSHEOIECNSBECWNYLRENEUAEEPGFLHSSUCLRAHEOEINIOENWHHUDHSWTGDNRBOYOKLANSOYEILNETIEDELAETWGIENLNMFSLTENRRUYLITNTAUNSEONRIPIHSUNRTIA', 'S', 0.06650510000000004]\n",
      "['HEIATVYGIMAIWNRWDEUETUXYRAHAPCERTTNQTAEEYAREAADTHSDREOHILGAAOEINHRIBVEQSUUTWHFDILENENIIGSHYISONVNDREAYOTASTOCLEMRODBNAILHOLAWEOHHHEDOLFINIGLOENNRSYSDHCWEDLSCIAFNMOHHYOHICSEOWTTUMIGLDRECDRENCETETLSEOST', 'U', 0.06340685000000003]\n",
      "['ENNLIIIINEPLDDAIADLGOWHOENEIRTRCHEOUHIRTOPEDRMYRETYESTINSUKNFXTNOWLLECUTSEHEESHNESEEAATDIITSTFTIEFODROKHSESNAISETFIRGCTYORYIIEFOOLRTFECNTLEDTADEASWLMAEACHNTIMIOFEREIBRSERTMNIDHEESAEOONOFEIUARYNCAWGCS', 'N', 0.06741628140703525]\n",
      "['NGAFNCSNGNOLUTRLMIAEWIAUNDCGOEEEEWTAENFWUODYDPOEXEOAPHESPPETYTYOWILEROEHTTOHATAWVSVNSTHENSHNAARNFRLWENNETFOGNZUIARTIILIOIOANTVWCRYSHIWAGHLNORSLIRUAOONORLEOEOETRONWTSAFUSOHYTTEEOTBLAFPTUOTTMLIOIATIAOA', 'T', 0.06432180904522622]\n",
      "['YACIGTLCTSNGLHDLPFYTNLURGIANTDSSSIBLSNOHRNUOOEUNHDUSEEFWRTAAORTMESBTTNNAEHUARUSAEHESSELLATEONCYGIOOAOEODRFFWREPMNAYNTOSNSUCTHIAAOUTETARIEFEEAEETEPGARTNIAWTPUIIRRTIUACRPBSESIHLVFHEIHYPHNRHHESORCLITRMR', 'Z', 0.06380351758793977]\n",
      "['OGTGIOOOHWSRLEOBEYSOYLSSTFMIRTOOTLETTEREWSLURNRGAARUNRTIIODGUEHAVEEOTSCTNUGVDPTRRAREODOALORICOHBTMNRNWWIOEAAETRPCPIGTSOETGQETLRNUNAPAYRTSURSICVHHPODEWCSRIWRSNNECSLRRKEPUSEFEOAATAITEOOATMAERURTECOHDMI', 'U', 0.0635852763819096]\n"
     ]
    }
   ],
   "source": [
    "devidedStrings = DevideString(ciphertext, 6)\n",
    "for devidedString in devidedStrings:\n",
    "    print(StringFrequency(devidedString)[0]\n",
    "          )\n"
   ]
  },
  {
   "cell_type": "markdown",
   "metadata": {},
   "source": [
    "In total, the key word is \"SUNTZU\"\n"
   ]
  },
  {
   "cell_type": "code",
   "execution_count": 10,
   "metadata": {
    "scrolled": true
   },
   "outputs": [
    {
     "data": {
      "text/plain": [
       "'WHENYOUENGAGEINACTUALFIGHTINGIFVICTORYISLONGINCOMINGTHEMENSWEAPONSWILLGROWDULLANDTHEIRARDORWILLBEDAMPENEDIFYOULAYSIEGETOATOWNYOUWILLEXHAUSTYOURSTRENGTHANDIFTHECAMPAIGNISPROTRACTEDTHERESOURCESOFTHESTATEWILLNOTBEEQUALTOTHESTRAINNEVERFORGETWHENYOURWEAPONSAREDULLEDYOURARDORDAMPENEDYOURSTRENGTHEXHAUSTEDANDYOURTREASURESPENTOTHERCHIEFTAINSWILLSPRINGUPTOTAKEADVANTAGEOFYOUREXTREMITYTHENNOMANHOWEVERWISEWILLBEABLETOAVERTTHECONSEQUENCESTHATMUSTENSUETHUSTHOUGHWEHAVEHEARDOFSTUPIDHASTEINWARCLEVERNESSHASNEVERBEENSEENASSOCIATEDWITHLONGDELAYSINALLHISTORYTHEREISNOINSTANCEOFACOUNTRYHAVINGBENEFITEDFROMPROLONGEDWARFAREONLYONEWHOKNOWSTHEDISASTROUSEFFECTSOFALONGWARCANREALIZETHESUPREMEIMPORTANCEOFRAPIDITYINBRINGINGITTOACLOSEITISONLYONEWHOISTHOROUGHLYACQUAINTEDWITHTHEEVILSOFWARWHOCANTHOROUGHLYUNDERSTANDTHEPROFITABLEWAYOFCARRYINGITONTHESKILLFULGENERALDOESNOTRAISEASECONDLEVYNEITHERAREHISSUPPLYWAGONSLOADEDMORETHANTWICEONCEWARISDECLAREDHEWILLNOTWASTEPRECIOUSTIMEINWAITINGFORREINFORCEMENTSNORWILLHETURNHISARMYBACKFORFRESHSUPPLIESBUTCROSSESTHEENEMYSFRONTIERWITHOUTDELAYTHEVALUEOFTIMETHATISBEINGALITTLEAHEADOFYOUROPPONENTHASCOUNTEDFORMORETHANEITHERNUMERICALSUPERIORITYORTHENICESTCALCULATIONSWITHREGARDTOCOMMISSARIAT'"
      ]
     },
     "execution_count": 10,
     "metadata": {},
     "output_type": "execute_result"
    }
   ],
   "source": [
    "CaesarCipherDecode(ciphertext, \"SUNTZU\")\n"
   ]
  }
 ],
 "metadata": {
  "interpreter": {
   "hash": "b0fa6594d8f4cbf19f97940f81e996739fb7646882a419484c72d19e05852a7e"
  },
  "kernelspec": {
   "display_name": "Python 3 (ipykernel)",
   "language": "python",
   "name": "python3"
  },
  "language_info": {
   "codemirror_mode": {
    "name": "ipython",
    "version": 3
   },
   "file_extension": ".py",
   "mimetype": "text/x-python",
   "name": "python",
   "nbconvert_exporter": "python",
   "pygments_lexer": "ipython3",
   "version": "3.9.10"
  }
 },
 "nbformat": 4,
 "nbformat_minor": 4
}
